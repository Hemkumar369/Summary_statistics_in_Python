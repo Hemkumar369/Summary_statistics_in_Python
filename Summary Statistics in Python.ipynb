{
 "cells": [
  {
   "cell_type": "code",
   "execution_count": 1,
   "id": "75f32495",
   "metadata": {},
   "outputs": [],
   "source": [
    "import pandas as pd\n",
    "import numpy as np"
   ]
  },
  {
   "cell_type": "code",
   "execution_count": 2,
   "id": "ee9625fa",
   "metadata": {},
   "outputs": [],
   "source": [
    "df = pd.read_csv('C:/Users/Hem Kumar Reddy/Desktop/socialmedia-disaster-tweets-DFE.csv')"
   ]
  },
  {
   "cell_type": "code",
   "execution_count": 3,
   "id": "256c2498",
   "metadata": {},
   "outputs": [
    {
     "data": {
      "text/html": [
       "<div>\n",
       "<style scoped>\n",
       "    .dataframe tbody tr th:only-of-type {\n",
       "        vertical-align: middle;\n",
       "    }\n",
       "\n",
       "    .dataframe tbody tr th {\n",
       "        vertical-align: top;\n",
       "    }\n",
       "\n",
       "    .dataframe thead th {\n",
       "        text-align: right;\n",
       "    }\n",
       "</style>\n",
       "<table border=\"1\" class=\"dataframe\">\n",
       "  <thead>\n",
       "    <tr style=\"text-align: right;\">\n",
       "      <th></th>\n",
       "      <th>_unit_id</th>\n",
       "      <th>_golden</th>\n",
       "      <th>_unit_state</th>\n",
       "      <th>_trusted_judgments</th>\n",
       "      <th>_last_judgment_at</th>\n",
       "      <th>choose_one</th>\n",
       "      <th>choose_one:confidence</th>\n",
       "      <th>choose_one_gold</th>\n",
       "      <th>keyword</th>\n",
       "      <th>location</th>\n",
       "      <th>text</th>\n",
       "      <th>tweetid</th>\n",
       "      <th>userid</th>\n",
       "    </tr>\n",
       "  </thead>\n",
       "  <tbody>\n",
       "    <tr>\n",
       "      <th>0</th>\n",
       "      <td>778243823</td>\n",
       "      <td>True</td>\n",
       "      <td>golden</td>\n",
       "      <td>156</td>\n",
       "      <td>NaN</td>\n",
       "      <td>Relevant</td>\n",
       "      <td>1.0000</td>\n",
       "      <td>Relevant</td>\n",
       "      <td>NaN</td>\n",
       "      <td>NaN</td>\n",
       "      <td>Just happened a terrible car crash</td>\n",
       "      <td>1.0</td>\n",
       "      <td>NaN</td>\n",
       "    </tr>\n",
       "    <tr>\n",
       "      <th>1</th>\n",
       "      <td>778243824</td>\n",
       "      <td>True</td>\n",
       "      <td>golden</td>\n",
       "      <td>152</td>\n",
       "      <td>NaN</td>\n",
       "      <td>Relevant</td>\n",
       "      <td>1.0000</td>\n",
       "      <td>Relevant</td>\n",
       "      <td>NaN</td>\n",
       "      <td>NaN</td>\n",
       "      <td>Our Deeds are the Reason of this #earthquake M...</td>\n",
       "      <td>13.0</td>\n",
       "      <td>NaN</td>\n",
       "    </tr>\n",
       "    <tr>\n",
       "      <th>2</th>\n",
       "      <td>778243825</td>\n",
       "      <td>True</td>\n",
       "      <td>golden</td>\n",
       "      <td>137</td>\n",
       "      <td>NaN</td>\n",
       "      <td>Relevant</td>\n",
       "      <td>1.0000</td>\n",
       "      <td>Relevant</td>\n",
       "      <td>NaN</td>\n",
       "      <td>NaN</td>\n",
       "      <td>Heard about #earthquake is different cities, s...</td>\n",
       "      <td>14.0</td>\n",
       "      <td>NaN</td>\n",
       "    </tr>\n",
       "    <tr>\n",
       "      <th>3</th>\n",
       "      <td>778243826</td>\n",
       "      <td>True</td>\n",
       "      <td>golden</td>\n",
       "      <td>136</td>\n",
       "      <td>NaN</td>\n",
       "      <td>Relevant</td>\n",
       "      <td>0.9603</td>\n",
       "      <td>Relevant</td>\n",
       "      <td>NaN</td>\n",
       "      <td>NaN</td>\n",
       "      <td>there is a forest fire at spot pond, geese are...</td>\n",
       "      <td>15.0</td>\n",
       "      <td>NaN</td>\n",
       "    </tr>\n",
       "    <tr>\n",
       "      <th>4</th>\n",
       "      <td>778243827</td>\n",
       "      <td>True</td>\n",
       "      <td>golden</td>\n",
       "      <td>138</td>\n",
       "      <td>NaN</td>\n",
       "      <td>Relevant</td>\n",
       "      <td>1.0000</td>\n",
       "      <td>Relevant</td>\n",
       "      <td>NaN</td>\n",
       "      <td>NaN</td>\n",
       "      <td>Forest fire near La Ronge Sask. Canada</td>\n",
       "      <td>16.0</td>\n",
       "      <td>NaN</td>\n",
       "    </tr>\n",
       "  </tbody>\n",
       "</table>\n",
       "</div>"
      ],
      "text/plain": [
       "    _unit_id  _golden _unit_state  _trusted_judgments _last_judgment_at  \\\n",
       "0  778243823     True      golden                 156               NaN   \n",
       "1  778243824     True      golden                 152               NaN   \n",
       "2  778243825     True      golden                 137               NaN   \n",
       "3  778243826     True      golden                 136               NaN   \n",
       "4  778243827     True      golden                 138               NaN   \n",
       "\n",
       "  choose_one  choose_one:confidence choose_one_gold keyword location  \\\n",
       "0   Relevant                 1.0000        Relevant     NaN      NaN   \n",
       "1   Relevant                 1.0000        Relevant     NaN      NaN   \n",
       "2   Relevant                 1.0000        Relevant     NaN      NaN   \n",
       "3   Relevant                 0.9603        Relevant     NaN      NaN   \n",
       "4   Relevant                 1.0000        Relevant     NaN      NaN   \n",
       "\n",
       "                                                text  tweetid  userid  \n",
       "0                 Just happened a terrible car crash      1.0     NaN  \n",
       "1  Our Deeds are the Reason of this #earthquake M...     13.0     NaN  \n",
       "2  Heard about #earthquake is different cities, s...     14.0     NaN  \n",
       "3  there is a forest fire at spot pond, geese are...     15.0     NaN  \n",
       "4             Forest fire near La Ronge Sask. Canada     16.0     NaN  "
      ]
     },
     "execution_count": 3,
     "metadata": {},
     "output_type": "execute_result"
    }
   ],
   "source": [
    "df.head()"
   ]
  },
  {
   "cell_type": "code",
   "execution_count": 5,
   "id": "1382661a",
   "metadata": {},
   "outputs": [
    {
     "name": "stdout",
     "output_type": "stream",
     "text": [
      "<class 'pandas.core.frame.DataFrame'>\n",
      "RangeIndex: 10876 entries, 0 to 10875\n",
      "Data columns (total 13 columns):\n",
      " #   Column                 Non-Null Count  Dtype  \n",
      "---  ------                 --------------  -----  \n",
      " 0   _unit_id               10876 non-null  int64  \n",
      " 1   _golden                10876 non-null  bool   \n",
      " 2   _unit_state            10876 non-null  object \n",
      " 3   _trusted_judgments     10876 non-null  int64  \n",
      " 4   _last_judgment_at      10792 non-null  object \n",
      " 5   choose_one             10876 non-null  object \n",
      " 6   choose_one:confidence  10876 non-null  float64\n",
      " 7   choose_one_gold        87 non-null     object \n",
      " 8   keyword                10789 non-null  object \n",
      " 9   location               7238 non-null   object \n",
      " 10  text                   10876 non-null  object \n",
      " 11  tweetid                10876 non-null  float64\n",
      " 12  userid                 10789 non-null  float64\n",
      "dtypes: bool(1), float64(3), int64(2), object(7)\n",
      "memory usage: 1.0+ MB\n"
     ]
    }
   ],
   "source": [
    "df.info()"
   ]
  },
  {
   "cell_type": "markdown",
   "id": "da9d9e8e",
   "metadata": {},
   "source": [
    "# TO spot the disasters, many institutions use social media data"
   ]
  },
  {
   "cell_type": "markdown",
   "id": "fdbdabd3",
   "metadata": {},
   "source": [
    "More information is spread on Internet rather than News channels"
   ]
  },
  {
   "cell_type": "markdown",
   "id": "e9a1a040",
   "metadata": {},
   "source": [
    "Dataset:- The dataset is collection of tweets and classified as relevant and irrelevant"
   ]
  },
  {
   "cell_type": "code",
   "execution_count": 6,
   "id": "c722a476",
   "metadata": {},
   "outputs": [
    {
     "name": "stdout",
     "output_type": "stream",
     "text": [
      "           _unit_id  _trusted_judgments  choose_one:confidence       tweetid  \\\n",
      "count  1.087600e+04        10876.000000           10876.000000  1.087600e+04   \n",
      "mean   7.782503e+08            6.022527               0.842037  6.238791e+17   \n",
      "std    3.200574e+03           10.463834               0.168086  5.602753e+16   \n",
      "min    7.782438e+08            3.000000               0.334200  1.000000e+00   \n",
      "25%    7.782475e+08            5.000000               0.714900  6.290000e+17   \n",
      "50%    7.782503e+08            5.000000               0.804900  6.290000e+17   \n",
      "75%    7.782530e+08            5.000000               1.000000  6.290000e+17   \n",
      "max    7.782611e+08          157.000000               1.000000  6.290000e+17   \n",
      "\n",
      "             userid  \n",
      "count  1.078900e+04  \n",
      "mean   1.231422e+09  \n",
      "std    1.167599e+09  \n",
      "min    3.840000e+03  \n",
      "25%    1.870027e+08  \n",
      "50%    6.342173e+08  \n",
      "75%    2.416228e+09  \n",
      "max    3.404474e+09  \n"
     ]
    }
   ],
   "source": [
    "print(df.describe())"
   ]
  },
  {
   "cell_type": "markdown",
   "id": "b77ab68c",
   "metadata": {},
   "source": [
    "# Summary statistics provides quick understanding of distribution, central tendency, dispersion and other properties of the data"
   ]
  },
  {
   "cell_type": "markdown",
   "id": "ff1f60ed",
   "metadata": {},
   "source": [
    "Mean = The arithmetic Average of all the values in the dataset \n",
    "\n",
    "* It is calculated by adding up all values and dividing by the number of values"
   ]
  },
  {
   "cell_type": "markdown",
   "id": "fc6934f8",
   "metadata": {},
   "source": [
    "Median = The middle value of the dataset\n",
    "\n",
    "* It is less effected by the outlier's (extreme value)"
   ]
  },
  {
   "cell_type": "markdown",
   "id": "a2b6d8dc",
   "metadata": {},
   "source": [
    "Mode = Most repeated (or) frequent values"
   ]
  },
  {
   "cell_type": "markdown",
   "id": "0b4f1816",
   "metadata": {},
   "source": [
    "Range = The difference between the maximum and minimum number "
   ]
  },
  {
   "cell_type": "markdown",
   "id": "2d267c6d",
   "metadata": {},
   "source": [
    "Variance measures how much the value deviates from the mean"
   ]
  },
  {
   "cell_type": "markdown",
   "id": "6d383627",
   "metadata": {},
   "source": [
    "Variance"
   ]
  },
  {
   "cell_type": "markdown",
   "id": "c7eb5a2a",
   "metadata": {},
   "source": [
    "Variance is the average of the sqaured differences between each value and the mean"
   ]
  },
  {
   "cell_type": "markdown",
   "id": "9df41f8e",
   "metadata": {},
   "source": [
    "Stanndard Deviation"
   ]
  },
  {
   "cell_type": "markdown",
   "id": "64dbce85",
   "metadata": {},
   "source": [
    "Standard Deviation is the square root of the variance"
   ]
  },
  {
   "cell_type": "markdown",
   "id": "51d2aaad",
   "metadata": {},
   "source": [
    "Percentile"
   ]
  },
  {
   "cell_type": "markdown",
   "id": "93f6cb7f",
   "metadata": {},
   "source": [
    "Percentile divides the dataset into specified portions"
   ]
  },
  {
   "cell_type": "markdown",
   "id": "fdec7043",
   "metadata": {},
   "source": [
    "25th percentile (Q1)\n",
    "\n",
    "75th percentile (Q3)"
   ]
  },
  {
   "cell_type": "markdown",
   "id": "622c3691",
   "metadata": {},
   "source": [
    "Inter Quartile Range (IQR):-\n",
    "    \n",
    "    The range between the 75th Percentile (Q3) and 25th Percentile (Q1)"
   ]
  },
  {
   "cell_type": "markdown",
   "id": "2d205bef",
   "metadata": {},
   "source": [
    "Skewness:-\n",
    "\n",
    "    A measure of asymmetry of the data\n",
    "    \n",
    "    Positive skewness indicates - a longer tail on the right side\n",
    "    Negative skewness indicates - a longer tail on the left side"
   ]
  },
  {
   "cell_type": "markdown",
   "id": "c1a056b4",
   "metadata": {},
   "source": [
    "Kurtosis:-\n",
    "    \n",
    "    A measure of the heaviness of the tails of the data distribution compared to normal distribution.\n",
    "    \n",
    "    High Kurtosis indicates more extreme values in the tails"
   ]
  },
  {
   "cell_type": "code",
   "execution_count": null,
   "id": "51ea9721",
   "metadata": {},
   "outputs": [],
   "source": []
  }
 ],
 "metadata": {
  "kernelspec": {
   "display_name": "Python 3",
   "language": "python",
   "name": "python3"
  },
  "language_info": {
   "codemirror_mode": {
    "name": "ipython",
    "version": 3
   },
   "file_extension": ".py",
   "mimetype": "text/x-python",
   "name": "python",
   "nbconvert_exporter": "python",
   "pygments_lexer": "ipython3",
   "version": "3.8.8"
  }
 },
 "nbformat": 4,
 "nbformat_minor": 5
}
